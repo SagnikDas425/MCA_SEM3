{
 "cells": [
  {
   "cell_type": "code",
   "execution_count": 70,
   "id": "e7acfd03-f30a-422f-9be8-b1447a4f2668",
   "metadata": {},
   "outputs": [
    {
     "name": "stdin",
     "output_type": "stream",
     "text": [
      "Enter the month:  January\n"
     ]
    },
    {
     "name": "stdout",
     "output_type": "stream",
     "text": [
      "Winter\n"
     ]
    }
   ],
   "source": [
    "#1. Write a function called check-season, it takes a month parameter and returns the season: Autumn, Winter, Spring or Summer.\n",
    "def check_season(month):\n",
    "    if month in [\"September\",\"October\",\"November\"]:\n",
    "        return \"Autumn\"\n",
    "    elif month in [\"December\",\"January\",\"February\"]:\n",
    "        return \"Winter\"\n",
    "    elif month in [\"March\",\"April\",\"May\"]:\n",
    "        return \"Spring\"\n",
    "    elif month in [\"June\",\"July\",\"August\"]:\n",
    "        return \"Summer\"\n",
    "    else:\n",
    "        return \"Invalid Month\"\n",
    "month = input(\"Enter the month: \")\n",
    "result = check_season(month)\n",
    "print(result)"
   ]
  },
  {
   "cell_type": "code",
   "execution_count": 71,
   "id": "206eef0c-997e-49c7-bf6f-09baa90f9f84",
   "metadata": {},
   "outputs": [
    {
     "name": "stdin",
     "output_type": "stream",
     "text": [
      "Enter four values (x1 y1 x2 y2) separated by spaces:  5 6 7 8\n"
     ]
    },
    {
     "name": "stdout",
     "output_type": "stream",
     "text": [
      "1.0\n"
     ]
    }
   ],
   "source": [
    "#2. Write a function called calculate_slope which return the slope of a linear equation.\n",
    "def calculate_slope():\n",
    "    x1,y1,x2,y2 =  map(int, input(\"Enter four values (x1 y1 x2 y2) separated by spaces: \").split())\n",
    "    m = (y2 - y1)/(x2 - x1)\n",
    "    return m\n",
    "m = calculate_slope()\n",
    "print(m)"
   ]
  },
  {
   "cell_type": "code",
   "execution_count": 72,
   "id": "66e8cd1e-2728-48e7-9102-3f9d4e910fd5",
   "metadata": {},
   "outputs": [
    {
     "name": "stdout",
     "output_type": "stream",
     "text": [
      "Roots: (2.0, 1.0)\n"
     ]
    }
   ],
   "source": [
    "#3. Quadratic equation is calculated as follows: ax² + bx + c = 0. Write a function which calculates solution set of a quadratic equation, _solve_quadratic_eqn_.\n",
    "import math\n",
    "def quadr(a, b, c):\n",
    "    dis = b * b - 4 * a * c\n",
    "    if dis > 0:\n",
    "        r1 = (-b + math.sqrt(dis)) / (2 * a)\n",
    "        r2 = (-b - math.sqrt(dis)) / (2 * a)\n",
    "        return (r1, r2)\n",
    "    elif dis == 0:\n",
    "        r = -b / (2 * a)\n",
    "        return (r,)\n",
    "    else:\n",
    "        return \"No real roots\"\n",
    "a, b, c = 1, -3, 2\n",
    "result = quadr(a, b, c)\n",
    "print(\"Roots:\", result)        "
   ]
  },
  {
   "cell_type": "code",
   "execution_count": 118,
   "id": "48fbe564-5a7f-4f79-974b-37f4823d73f4",
   "metadata": {},
   "outputs": [
    {
     "name": "stdin",
     "output_type": "stream",
     "text": [
      "Enter integers separated by commas:  101,122,134,145\n"
     ]
    },
    {
     "name": "stdout",
     "output_type": "stream",
     "text": [
      "101\n",
      "122\n",
      "134\n",
      "145\n"
     ]
    }
   ],
   "source": [
    "#4. Declare a function named print_list. It takes a list as a parameter and it prints out each element of the list.\n",
    "def print_list(lst):\n",
    "    for ele in lst:\n",
    "        print(ele)\n",
    "ui = input(\"Enter integers separated by commas: \")\n",
    "mylist = [item.strip() for item in ui.split(',')]\n",
    "print_list(mylist)"
   ]
  },
  {
   "cell_type": "code",
   "execution_count": 74,
   "id": "fc4c105f-58f4-44a1-b9b0-aaa51626b243",
   "metadata": {},
   "outputs": [
    {
     "name": "stdin",
     "output_type": "stream",
     "text": [
      "Enter integers separated by space:  4 5 6 7\n"
     ]
    },
    {
     "name": "stdout",
     "output_type": "stream",
     "text": [
      "[7, 6, 5, 4]\n"
     ]
    }
   ],
   "source": [
    "#5. Declare a function named reverse_list. It takes an array as a parameter and it returns the reverse of the array (use loops).\n",
    "def rev_list(arr):\n",
    "    r = []\n",
    "    for i in range(len(arr)-1,-1,-1):\n",
    "        r.append(arr[i])\n",
    "    return r\n",
    "arr = list(map(int, input(\"Enter integers separated by space: \").split()))\n",
    "r = rev_list(arr)\n",
    "print(r)"
   ]
  },
  {
   "cell_type": "code",
   "execution_count": 75,
   "id": "e7397a11-c1c6-4385-ae92-ff5c775eb8be",
   "metadata": {},
   "outputs": [
    {
     "name": "stdin",
     "output_type": "stream",
     "text": [
      "Enter upto n terms:  5\n"
     ]
    },
    {
     "name": "stdout",
     "output_type": "stream",
     "text": [
      "0.7833333333333332\n"
     ]
    }
   ],
   "source": [
    "#6. Compute the sum up to n terms in the series 1 - 1/2 + 1/3 - 1/4 + 1/5 -... 1/n where n is a positive integer and input by user.\n",
    "def series(n):\n",
    "    s = 0\n",
    "    for i in range(1,n+1):\n",
    "        if i % 2 == 0:\n",
    "            s = s - 1/i\n",
    "        else:\n",
    "            s = s + 1/i\n",
    "    return s\n",
    "n = int(input(\"Enter upto n terms: \"))\n",
    "ans = series(n)\n",
    "print(ans)"
   ]
  },
  {
   "cell_type": "code",
   "execution_count": 76,
   "id": "38a737ef-bdf1-4308-b41a-7c8bad7f62cc",
   "metadata": {},
   "outputs": [
    {
     "name": "stdin",
     "output_type": "stream",
     "text": [
      "Enter the value of x:  2\n",
      "Enter a positive integer n:  5\n"
     ]
    },
    {
     "name": "stdout",
     "output_type": "stream",
     "text": [
      "0.909347442680776\n"
     ]
    }
   ],
   "source": [
    "#7. Write a program to compute sin x for given x. The user should supply x and a positive integer n. We compute the sine of x using the series and the computation should use all terms in the series up through the term involving xn\n",
    "# sin x = x - x3/3! + x5/5! - x7/7! + x9/9! ........\n",
    "import math\n",
    "def sin_x(x, n):\n",
    "    result = 0\n",
    "    for i in range(n):\n",
    "        term = ((-1)**i) * (x**(2*i+1)) / math.factorial(2*i+1)\n",
    "        result += term\n",
    "    return result\n",
    "x = float(input(\"Enter the value of x: \"))\n",
    "n = int(input(\"Enter a positive integer n: \"))\n",
    "print(sin_x(x, n))"
   ]
  },
  {
   "cell_type": "code",
   "execution_count": 77,
   "id": "63ef2f66-954c-46af-be42-bbb1c4491429",
   "metadata": {},
   "outputs": [
    {
     "name": "stdin",
     "output_type": "stream",
     "text": [
      "Enter the value of x:  1\n",
      "Enter a positive integer n:  3\n"
     ]
    },
    {
     "name": "stdout",
     "output_type": "stream",
     "text": [
      "0.5416666666666666\n"
     ]
    }
   ],
   "source": [
    "#8. Write a program to compute cosine of x. The user should supply x and a positive integer n. We compute the cosine of x using the series and the computation should use all terms in the series up through the term involving xn\n",
    "#cos x = 1 - x2/2! + x4/4! - x6/6! ....\n",
    "import math\n",
    "def cos_x(x, n):\n",
    "    result = 0\n",
    "    for i in range(n):\n",
    "        term = ((-1)**i) * (x**(2*i)) / math.factorial(2*i)\n",
    "        result += term\n",
    "    return result\n",
    "x = float(input(\"Enter the value of x: \"))\n",
    "n = int(input(\"Enter a positive integer n: \"))\n",
    "print(cos_x(x, n))"
   ]
  },
  {
   "cell_type": "code",
   "execution_count": 78,
   "id": "6832ed84-31b2-4dc8-bee4-2fa5bda5d1ff",
   "metadata": {},
   "outputs": [
    {
     "name": "stdin",
     "output_type": "stream",
     "text": [
      "Enter the number of lines:  4\n"
     ]
    },
    {
     "name": "stdout",
     "output_type": "stream",
     "text": [
      "   .\n",
      "   /_\\\n",
      "  .\n",
      "  / \\\n",
      " /___\\\n",
      " .\n",
      " / \\\n",
      "/   \\\n",
      "/_____\\\n",
      ".\n",
      "/ \\\n",
      "/   \\\n",
      "/     \\\n",
      "/_______\\\n"
     ]
    }
   ],
   "source": [
    "#9. Print the pattern upto N Lines:\n",
    "def print_pattern(N):\n",
    "    for i in range(1, N+1):\n",
    "        spaces = N - i\n",
    "        print(' ' * spaces + '.')\n",
    "        for j in range(1, i+1):\n",
    "            if j == i:\n",
    "                print(' ' * (spaces - j + 1) + '/' + '_' * (2 * j - 1) + '\\\\')\n",
    "            else:\n",
    "                print(' ' * (spaces - j + 1) + '/' + ' ' * (2 * j - 1) + '\\\\')\n",
    "N = int(input(\"Enter the number of lines: \"))\n",
    "print_pattern(N)"
   ]
  },
  {
   "cell_type": "code",
   "execution_count": 79,
   "id": "87b78bf2-682c-415a-8c6d-3928e06d7b77",
   "metadata": {},
   "outputs": [
    {
     "name": "stdout",
     "output_type": "stream",
     "text": [
      "     _ \n",
      "  |  _|\n",
      "  | |_ \n",
      "\n",
      "     _   _ \n",
      "  |  _|  _|\n",
      "  | |_   _|\n",
      "\n",
      "     _   _     \n",
      "  |  _|  _| |_|\n",
      "  | |_   _|   |\n",
      "\n"
     ]
    }
   ],
   "source": [
    "#10. Print a number as a 8 segment display N Lines:\n",
    "def print_segmented_numbers(n):\n",
    "    digits = [\n",
    "        [\"   \", \"  |\", \"  |\"], # 1\n",
    "        [\" _ \", \" _|\", \"|_ \"], # 2\n",
    "        [\" _ \", \" _|\", \" _|\"], # 3\n",
    "        [\"   \", \"|_|\", \"  |\"], # 4\n",
    "        [\" _ \", \"|_ \", \" _|\"], # 5\n",
    "        [\" _ \", \"|_ \", \"|_|\"], # 6\n",
    "        [\" _ \", \"  |\", \"  |\"], # 7\n",
    "        [\" _ \", \"|_|\", \"|_|\"], # 8\n",
    "        [\" _ \", \"|_|\", \" _|\"]  # 9\n",
    "    ]\n",
    "    for num in range(2, n+1):\n",
    "        for i in range(3):\n",
    "            line = ' '.join(digits[digit][i] for digit in range(num))\n",
    "            print(line)\n",
    "        print()\n",
    "N = 4\n",
    "print_segmented_numbers(N)"
   ]
  },
  {
   "cell_type": "code",
   "execution_count": 80,
   "id": "63659c5f-29ab-480d-84e9-0328273a0024",
   "metadata": {},
   "outputs": [
    {
     "name": "stdout",
     "output_type": "stream",
     "text": [
      "1 2\n",
      "4 3\n",
      "1 2 3\n",
      "8 9 4\n",
      "7 6 5\n",
      "1 2 3 4\n",
      "12 13 14 5\n",
      "11 16 15 6\n",
      "10 9 8 7\n"
     ]
    }
   ],
   "source": [
    "#11. Print the pattern upto N lines:\n",
    "def print_spiral_matrix(N):\n",
    "    matrix = [[0] * N for _ in range(N)]\n",
    "    val = 1\n",
    "    top, left = 0, 0\n",
    "    bottom, right = N - 1, N - 1\n",
    "    while val <= N * N:\n",
    "        for i in range(left, right + 1):\n",
    "            matrix[top][i] = val\n",
    "            val += 1\n",
    "        top += 1\n",
    "        for i in range(top, bottom + 1):\n",
    "            matrix[i][right] = val\n",
    "            val += 1\n",
    "        right -= 1\n",
    "        for i in range(right, left - 1, -1):\n",
    "            matrix[bottom][i] = val\n",
    "            val += 1\n",
    "        bottom -= 1\n",
    "        for i in range(bottom, top - 1, -1):\n",
    "            matrix[i][left] = val\n",
    "            val += 1\n",
    "        left += 1\n",
    "    for row in matrix:\n",
    "        print(\" \".join(map(str, row)))\n",
    "print_spiral_matrix(2)\n",
    "print_spiral_matrix(3)\n",
    "print_spiral_matrix(4)"
   ]
  },
  {
   "cell_type": "code",
   "execution_count": 81,
   "id": "4d99fc7e-e422-4998-be04-de38c4a7434e",
   "metadata": {},
   "outputs": [
    {
     "name": "stdout",
     "output_type": "stream",
     "text": [
      "1 1 1 1 1\n",
      "2 1 2 4 8\n",
      "3 1 3 9 27\n",
      "4 1 4 16 64\n",
      "5 1 5 25 125\n"
     ]
    }
   ],
   "source": [
    "#12. Write a python script  that displays the following table\n",
    "#1 1 1 1 1\n",
    "#2 1 2 4 8\n",
    "#3 1 3 9 27\n",
    "#4 1 4 16 64\n",
    "#5 1 5 25 125\n",
    "\n",
    "def pattern():\n",
    "    for i in range(1, 6):\n",
    "        n = i\n",
    "        print(f\"{n} 1 {n} {n ** 2} {n ** 3}\")\n",
    "pattern()"
   ]
  },
  {
   "cell_type": "code",
   "execution_count": 82,
   "id": "a104bc0d-c6f3-4e03-90f1-46871b8f5291",
   "metadata": {},
   "outputs": [],
   "source": [
    "#Miscellaneous"
   ]
  },
  {
   "cell_type": "code",
   "execution_count": 83,
   "id": "29d3920b-bf6b-4969-aca5-c9e225fc9136",
   "metadata": {},
   "outputs": [
    {
     "name": "stdout",
     "output_type": "stream",
     "text": [
      "Range of the array: 8\n"
     ]
    }
   ],
   "source": [
    "#13. WAP to find the range of a 1D array.\n",
    "def find_range(arr):\n",
    "    return max(arr) - min(arr)\n",
    "array = [3, 7, 1, 9, 5]\n",
    "print(\"Range of the array:\", find_range(array))"
   ]
  },
  {
   "cell_type": "code",
   "execution_count": 84,
   "id": "470205a8-108d-4de7-a441-3399add34b4a",
   "metadata": {},
   "outputs": [
    {
     "name": "stdout",
     "output_type": "stream",
     "text": [
      "Index of target: 3\n"
     ]
    }
   ],
   "source": [
    "#14. WAP to search an element in an array.\n",
    "def search_element(arr, target):\n",
    "    if target in arr:\n",
    "        return arr.index(target)\n",
    "    return -1\n",
    "array = [3, 7, 1, 9, 5]\n",
    "target = 9\n",
    "print(\"Index of target:\", search_element(array, target))"
   ]
  },
  {
   "cell_type": "code",
   "execution_count": 85,
   "id": "a1b0c190-518a-44fb-a2e4-6ae2f3565c7a",
   "metadata": {},
   "outputs": [
    {
     "name": "stdout",
     "output_type": "stream",
     "text": [
      "Sum of even numbers: 14\n"
     ]
    }
   ],
   "source": [
    "#15. WAP to find the sum of even numbers in an integer array.\n",
    "def sum_of_even_numbers(arr):\n",
    "    return sum(x for x in arr if x % 2 == 0)\n",
    "array = [3, 7, 1, 8, 5, 6]\n",
    "print(\"Sum of even numbers:\", sum_of_even_numbers(array))"
   ]
  },
  {
   "cell_type": "code",
   "execution_count": 86,
   "id": "44e4a102-fd5c-487c-ab8c-a24397951e33",
   "metadata": {},
   "outputs": [
    {
     "name": "stdout",
     "output_type": "stream",
     "text": [
      "Sum of diagonal elements: 30\n"
     ]
    }
   ],
   "source": [
    "#16. WAP to find the sum of diagonal elements in a 2D array.\n",
    "def sum_of_diagonals(matrix):\n",
    "    primary_diagonal = sum(matrix[i][i] for i in range(len(matrix)))\n",
    "    secondary_diagonal = sum(matrix[i][len(matrix) - i - 1] for i in range(len(matrix)))\n",
    "    return primary_diagonal + secondary_diagonal\n",
    "matrix = [\n",
    "    [1, 2, 3],\n",
    "    [4, 5, 6],\n",
    "    [7, 8, 9]\n",
    "]\n",
    "print(\"Sum of diagonal elements:\", sum_of_diagonals(matrix))"
   ]
  },
  {
   "cell_type": "code",
   "execution_count": 87,
   "id": "97242fe7-5e45-4153-bf15-9a0267ff3369",
   "metadata": {},
   "outputs": [
    {
     "name": "stdout",
     "output_type": "stream",
     "text": [
      "Reversed array: [5, 4, 3, 2, 1]\n"
     ]
    }
   ],
   "source": [
    "#17. WAP to reverse the elements in an array of integers without using a second array.\n",
    "def reverse_array(arr):\n",
    "    left, right = 0, len(arr) - 1\n",
    "    while left < right:\n",
    "        arr[left], arr[right] = arr[right], arr[left]\n",
    "        left += 1\n",
    "        right -= 1\n",
    "    return arr\n",
    "array = [1, 2, 3, 4, 5]\n",
    "print(\"Reversed array:\", reverse_array(array))"
   ]
  },
  {
   "cell_type": "code",
   "execution_count": 88,
   "id": "31f5ae0b-b0ba-4c42-8567-bed52e4d641e",
   "metadata": {},
   "outputs": [
    {
     "name": "stdin",
     "output_type": "stream",
     "text": [
      "Enter number of elements:  5\n",
      "Enter element 1:  3\n",
      "Enter element 2:  1\n",
      "Enter element 3:  10\n",
      "Enter element 4:  7\n",
      "Enter element 5:  2\n"
     ]
    },
    {
     "name": "stdout",
     "output_type": "stream",
     "text": [
      "Smallest number: 1\n"
     ]
    }
   ],
   "source": [
    "#18. WAP to to enter n elements in an array and find smallest number among them.\n",
    "def find_smallest_number(arr):\n",
    "    return min(arr)\n",
    "n = int(input(\"Enter number of elements: \"))\n",
    "array = [int(input(f\"Enter element {i + 1}: \")) for i in range(n)]\n",
    "print(\"Smallest number:\", find_smallest_number(array))"
   ]
  },
  {
   "cell_type": "code",
   "execution_count": 89,
   "id": "7557ea42-076d-4fa1-884d-785c1cb7c1c6",
   "metadata": {},
   "outputs": [
    {
     "name": "stdout",
     "output_type": "stream",
     "text": [
      "Sum of odd numbers: 25\n"
     ]
    }
   ],
   "source": [
    "#19. WAP to find the sum of all odd numbers in a 2D array.\n",
    "def sum_of_odd_numbers(matrix):\n",
    "    return sum(x for row in matrix for x in row if x % 2 != 0)\n",
    "matrix = [\n",
    "    [1, 2, 3],\n",
    "    [4, 5, 6],\n",
    "    [7, 8, 9]\n",
    "]\n",
    "print(\"Sum of odd numbers:\", sum_of_odd_numbers(matrix))"
   ]
  },
  {
   "cell_type": "code",
   "execution_count": 90,
   "id": "4059534d-3a46-448c-a8a9-8a0a496ec28e",
   "metadata": {},
   "outputs": [
    {
     "name": "stdout",
     "output_type": "stream",
     "text": [
      "Transpose of the matrix:\n",
      "[1, 4, 7]\n",
      "[2, 5, 8]\n",
      "[3, 6, 9]\n"
     ]
    }
   ],
   "source": [
    "#20. WAP to print transpose of matrix.\n",
    "def transpose_matrix(matrix):\n",
    "    return [list(row) for row in zip(*matrix)]\n",
    "matrix = [\n",
    "    [1, 2, 3],\n",
    "    [4, 5, 6],\n",
    "    [7, 8, 9]\n",
    "]\n",
    "print(\"Transpose of the matrix:\")\n",
    "for row in transpose_matrix(matrix):\n",
    "    print(row)"
   ]
  },
  {
   "cell_type": "code",
   "execution_count": 91,
   "id": "ad84b707-29ac-4a97-87d9-6c71635e5630",
   "metadata": {},
   "outputs": [
    {
     "name": "stdout",
     "output_type": "stream",
     "text": [
      "Is the matrix sparse? True\n"
     ]
    }
   ],
   "source": [
    "#21. WAP to check whether a given matrix is sparse or not.\n",
    "def is_sparse(matrix):\n",
    "    total_elements = len(matrix) * len(matrix[0])\n",
    "    zero_count = sum(1 for row in matrix for x in row if x == 0)\n",
    "    return zero_count > total_elements / 2\n",
    "matrix = [\n",
    "    [0, 0, 1],\n",
    "    [0, 0, 0],\n",
    "    [0, 0, 2]\n",
    "]\n",
    "print(\"Is the matrix sparse?\", is_sparse(matrix))"
   ]
  },
  {
   "cell_type": "code",
   "execution_count": 92,
   "id": "cd712845-bd91-434b-86ac-b80cfc6a3bb0",
   "metadata": {},
   "outputs": [
    {
     "name": "stdout",
     "output_type": "stream",
     "text": [
      "Number of prime numbers: 4\n"
     ]
    }
   ],
   "source": [
    "#22. WAP to count the prime numbers in an array.\n",
    "def is_prime(n):\n",
    "    if n <= 1:\n",
    "        return False\n",
    "    if n <= 3:\n",
    "        return True\n",
    "    if n % 2 == 0 or n % 3 == 0:\n",
    "        return False\n",
    "    i = 5\n",
    "    while i * i <= n:\n",
    "        if n % i == 0 or n % (i + 2) == 0:\n",
    "            return False\n",
    "        i += 6\n",
    "    return True\n",
    "def count_primes(arr):\n",
    "    return sum(1 for x in arr if is_prime(x))\n",
    "array = [2, 3, 4, 5, 6, 7]\n",
    "print(\"Number of prime numbers:\", count_primes(array))"
   ]
  }
 ],
 "metadata": {
  "kernelspec": {
   "display_name": "Python 3 (ipykernel)",
   "language": "python",
   "name": "python3"
  },
  "language_info": {
   "codemirror_mode": {
    "name": "ipython",
    "version": 3
   },
   "file_extension": ".py",
   "mimetype": "text/x-python",
   "name": "python",
   "nbconvert_exporter": "python",
   "pygments_lexer": "ipython3",
   "version": "3.11.7"
  }
 },
 "nbformat": 4,
 "nbformat_minor": 5
}
