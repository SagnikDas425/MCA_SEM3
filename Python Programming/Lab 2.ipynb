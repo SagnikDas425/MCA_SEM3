{
 "cells": [
  {
   "cell_type": "code",
   "execution_count": 1,
   "id": "69bea954-e861-4e58-ac72-1e1d580e3b30",
   "metadata": {},
   "outputs": [
    {
     "name": "stdout",
     "output_type": "stream",
     "text": [
      "10.582575694955839\n"
     ]
    }
   ],
   "source": [
    "#1. WAP To find the sum of square root of any three numbers.\n",
    "import math\n",
    "def sum(a, b, c):\n",
    "    return math.sqrt(a) + math.sqrt(b) + math.sqrt(c)\n",
    "result = sum(4, 16, 21)\n",
    "print(result)"
   ]
  },
  {
   "cell_type": "code",
   "execution_count": 2,
   "id": "4409d784-0872-4c2e-a871-7a65758354db",
   "metadata": {},
   "outputs": [
    {
     "name": "stdout",
     "output_type": "stream",
     "text": [
      "Roots: (2.0, 1.0)\n",
      "Root: (-1.0,)\n",
      "Roots: ((-0.5+0.8660254037844386j), (-0.5-0.8660254037844386j))\n"
     ]
    }
   ],
   "source": [
    "#2. WAP To solve the quadratic equation.\n",
    "import math\n",
    "def quadr(a, b, c):\n",
    "    d = b**2 - 4*a*c\n",
    "    if d > 0:\n",
    "        rt1 = (-b + math.sqrt(d)) / (2 * a)\n",
    "        rt2 = (-b - math.sqrt(d)) / (2 * a)\n",
    "        return (rt1, rt2)\n",
    "    elif d == 0:\n",
    "        rt = -b / (2 * a)\n",
    "        return (rt,)\n",
    "    else:\n",
    "        rp = -b / (2 * a)\n",
    "        ip = math.sqrt(-d) / (2 * a)\n",
    "        return (complex(rp, ip), complex(rp, -ip))\n",
    "r1 = quadr(1, -3, 2)\n",
    "print(\"Roots:\", r1)\n",
    "r2 = quadr(1, 2, 1)\n",
    "print(\"Root:\", r2)\n",
    "r3 = quadr(1, 1, 1)\n",
    "print(\"Roots:\", r3)"
   ]
  },
  {
   "cell_type": "code",
   "execution_count": 3,
   "id": "e7806c53-bf45-4123-af08-ad78aee3fd87",
   "metadata": {},
   "outputs": [
    {
     "name": "stdout",
     "output_type": "stream",
     "text": [
      "12\n"
     ]
    }
   ],
   "source": [
    "#3. WAP to find GCD of two numbers.\n",
    "def gcd(a, b):\n",
    "    while b:\n",
    "        a, b = b, a % b\n",
    "    return a\n",
    "result = gcd(60, 24)\n",
    "print(result)"
   ]
  },
  {
   "cell_type": "code",
   "execution_count": 4,
   "id": "cc4b156f-ebc2-472c-90e1-c8fd1befb609",
   "metadata": {},
   "outputs": [
    {
     "name": "stdout",
     "output_type": "stream",
     "text": [
      "390625\n",
      "20.0\n",
      "148.4131591025766\n",
      "4.0\n"
     ]
    }
   ],
   "source": [
    "#4. WAP to compute a)5 to the power of 8 b)square root of 400 c)exponent of 5 d)Logarithm of 625 base 5.\n",
    "import math\n",
    "power = 5 ** 8\n",
    "sqrt = math.sqrt(400)\n",
    "exp = math.exp(5)\n",
    "log = math.log(625, 5)\n",
    "print(power)\n",
    "print(sqrt)\n",
    "print(exp) \n",
    "print(log)"
   ]
  },
  {
   "cell_type": "code",
   "execution_count": 5,
   "id": "671fa1ca-7197-4a5c-9e92-f0d64b8ebd19",
   "metadata": {},
   "outputs": [
    {
     "name": "stdout",
     "output_type": "stream",
     "text": [
      "0.8660254037844386\n",
      "-1.0\n",
      "0.7617599814162892\n",
      "1.633123935319537e+16\n"
     ]
    }
   ],
   "source": [
    "#5. WAP to find a)sin of 60 degree b)cos of pi c)sin(0.8660254037844386) d)tan of 90 degree.\n",
    "import math\n",
    "sin_60 = math.sin(math.radians(60))\n",
    "cos_pi = math.cos(math.pi)\n",
    "sin_value = math.sin(0.8660254037844386)\n",
    "tan_90 = math.tan(math.radians(90))\n",
    "print(sin_60)      \n",
    "print(cos_pi)      \n",
    "print(sin_value)   \n",
    "print(tan_90)"
   ]
  },
  {
   "cell_type": "code",
   "execution_count": 6,
   "id": "37b67ba3-8fcf-40d8-b830-0c29eea49ed1",
   "metadata": {},
   "outputs": [
    {
     "name": "stdout",
     "output_type": "stream",
     "text": [
      "The sum is: 8\n"
     ]
    }
   ],
   "source": [
    "#6. WAP to define a sum function with two parameters and call the function. \n",
    "def sum(a, b):\n",
    "    return a + b\n",
    "result = sum(3, 5)\n",
    "print(\"The sum is:\", result)"
   ]
  },
  {
   "cell_type": "code",
   "execution_count": 7,
   "id": "ef217596-4456-439f-9b6d-7cb4668efa6d",
   "metadata": {},
   "outputs": [
    {
     "name": "stdout",
     "output_type": "stream",
     "text": [
      "taoC\n"
     ]
    }
   ],
   "source": [
    "#7. WAP to reverse a given string.\n",
    "def rs(s):\n",
    "    return s[::-1]\n",
    "result = rs(\"Coat\")\n",
    "print(result)"
   ]
  },
  {
   "cell_type": "code",
   "execution_count": 8,
   "id": "5af42db7-c5c8-4c00-8046-3b1c3b1ad9ff",
   "metadata": {},
   "outputs": [
    {
     "name": "stdout",
     "output_type": "stream",
     "text": [
      "8\n"
     ]
    }
   ],
   "source": [
    "#8. WAP to calculate the power of a number using recursion.\n",
    "def pr(base, exp):\n",
    "    if exp == 0:\n",
    "        return 1\n",
    "    else:\n",
    "        return base * pr(base, exp - 1)\n",
    "result = pr(2, 3)\n",
    "print(result)"
   ]
  },
  {
   "cell_type": "code",
   "execution_count": 9,
   "id": "10e0dc2c-f578-42f5-bca9-9314a5538070",
   "metadata": {},
   "outputs": [
    {
     "name": "stdout",
     "output_type": "stream",
     "text": [
      "11110\n"
     ]
    }
   ],
   "source": [
    "#9. WAP to convert decimal number to binary.\n",
    "def dtb(n):\n",
    "    return bin(n).replace(\"0b\", \"\")\n",
    "result = dtb(30)\n",
    "print(result)"
   ]
  },
  {
   "cell_type": "code",
   "execution_count": 10,
   "id": "dc90c2f7-f120-4e6f-aa4c-24713346af98",
   "metadata": {},
   "outputs": [
    {
     "name": "stdin",
     "output_type": "stream",
     "text": [
      "Enter a number:  145\n"
     ]
    },
    {
     "name": "stdout",
     "output_type": "stream",
     "text": [
      "145 is a Krishnamurthy number.\n"
     ]
    }
   ],
   "source": [
    "#10. WAP to check if a number is Krishnamurthy number.\n",
    "def ikn(n):\n",
    "    sof = 0\n",
    "    temp = n\n",
    "    while temp > 0:\n",
    "        digit = temp % 10\n",
    "        f = 1\n",
    "        for i in range(1, digit + 1):\n",
    "            f *= i\n",
    "        sof += f\n",
    "        temp //= 10\n",
    "    return sof == n\n",
    "n = int(input(\"Enter a number: \"))\n",
    "if ikn(n):\n",
    "    print(f\"{n} is a Krishnamurthy number.\")\n",
    "else:\n",
    "    print(f\"{n} is not a Krishnamurthy number.\")"
   ]
  },
  {
   "cell_type": "code",
   "execution_count": 11,
   "id": "8951888a-b295-485a-bdfb-ce93fd1cae69",
   "metadata": {},
   "outputs": [
    {
     "name": "stdin",
     "output_type": "stream",
     "text": [
      "Enter a number:  781\n"
     ]
    },
    {
     "name": "stdout",
     "output_type": "stream",
     "text": [
      "Sum of digits: 16\n"
     ]
    }
   ],
   "source": [
    "#11. WAP to find the sum of digits of a number.\n",
    "def sod(number):\n",
    "    s = 0\n",
    "    for digit in str(number):\n",
    "        s += int(digit)\n",
    "    return s\n",
    "number = int(input(\"Enter a number: \"))\n",
    "print(\"Sum of digits:\", sod(number))"
   ]
  },
  {
   "cell_type": "code",
   "execution_count": 12,
   "id": "48e9886d-f1fd-4149-9c8e-99ec39111985",
   "metadata": {},
   "outputs": [
    {
     "name": "stdin",
     "output_type": "stream",
     "text": [
      "Enter a number:  9\n",
      "Enter the range:  12\n"
     ]
    },
    {
     "name": "stdout",
     "output_type": "stream",
     "text": [
      "9 x 1 = 9\n",
      "9 x 2 = 18\n",
      "9 x 3 = 27\n",
      "9 x 4 = 36\n",
      "9 x 5 = 45\n",
      "9 x 6 = 54\n",
      "9 x 7 = 63\n",
      "9 x 8 = 72\n",
      "9 x 9 = 81\n",
      "9 x 10 = 90\n",
      "9 x 11 = 99\n",
      "9 x 12 = 108\n"
     ]
    }
   ],
   "source": [
    "#12. WAP to that prompts the user to input a number and prints its multiplication table.\n",
    "def mt():\n",
    "    n = int(input(\"Enter a number: \"))\n",
    "    r = int(input(\"Enter the range: \"))\n",
    "    for i in range(1, r + 1):\n",
    "        print(f\"{n} x {i} = {n * i}\")\n",
    "mt()"
   ]
  },
  {
   "cell_type": "code",
   "execution_count": 13,
   "id": "d3f5f8b4-efbc-4410-af34-bbb79f0c9553",
   "metadata": {},
   "outputs": [
    {
     "name": "stdout",
     "output_type": "stream",
     "text": [
      "[2, 6, 18, 54, 162, 486]\n"
     ]
    }
   ],
   "source": [
    "#13. WAP to print the first 6 terms of a geometric sequence starting with 2 and having a common ratio of 3.\n",
    "def geometric_sequence(start, ratio, terms):\n",
    "    sequence = [start * (ratio ** i) for i in range(terms)]\n",
    "    return sequence\n",
    "result = geometric_sequence(2, 3, 6)\n",
    "print(result)"
   ]
  },
  {
   "cell_type": "code",
   "execution_count": 14,
   "id": "a1bf9d9a-c0c9-4f09-b6da-c5bb0c9b7e6f",
   "metadata": {},
   "outputs": [
    {
     "name": "stdin",
     "output_type": "stream",
     "text": [
      "Enter upto n 10\n"
     ]
    },
    {
     "name": "stdout",
     "output_type": "stream",
     "text": [
      "[1, 2, 6, 24, 120, 720, 5040, 40320, 362880, 3628800]\n"
     ]
    }
   ],
   "source": [
    "#14. WAP to print the series upto N terms: 1,2,6,24,120,720 …\n",
    "import math\n",
    "def fs(n):\n",
    "    series = []\n",
    "    for i in range(1, n+1):\n",
    "        series.append(math.factorial(i))\n",
    "    return series\n",
    "n = int(input(\"Enter upto n\")) \n",
    "result = fs(n)\n",
    "print(result)"
   ]
  },
  {
   "cell_type": "code",
   "execution_count": 15,
   "id": "1e8efe4d-522e-4306-ae11-a3e1adfacb0f",
   "metadata": {},
   "outputs": [
    {
     "name": "stdin",
     "output_type": "stream",
     "text": [
      "Enter base:  3\n",
      "Enter exponent:  81\n"
     ]
    },
    {
     "name": "stdout",
     "output_type": "stream",
     "text": [
      "443426488243037769948249630619149892803\n"
     ]
    }
   ],
   "source": [
    "#15. WAP that prompts the user to enter a base number and an exponent, and then calculates the power of the base to the exponent. The program should not use the exponentiation operator (**) or the math.pow() function.\n",
    "def power(base, exp):\n",
    "    result = 1\n",
    "    for _ in range(exp):\n",
    "        result *= base\n",
    "    return result\n",
    "base = int(input(\"Enter base: \"))\n",
    "exp = int(input(\"Enter exponent: \"))\n",
    "result = power(base, exp)\n",
    "print(result)"
   ]
  },
  {
   "cell_type": "code",
   "execution_count": 16,
   "id": "b592aa50-6e12-438a-8a2f-58ece7d2744c",
   "metadata": {},
   "outputs": [],
   "source": [
    "#Miscellaneous"
   ]
  },
  {
   "cell_type": "code",
   "execution_count": 17,
   "id": "fbaec844-1b03-4692-a69a-863b5c5693c4",
   "metadata": {},
   "outputs": [
    {
     "name": "stdout",
     "output_type": "stream",
     "text": [
      "1 1 1\n",
      "1 1 2\n",
      "1 1 3\n",
      "1 2 1\n",
      "1 2 2\n",
      "1 2 3\n",
      "1 3 1\n",
      "1 3 2\n",
      "1 3 3\n",
      "2 1 1\n",
      "2 1 2\n",
      "2 1 3\n",
      "2 2 1\n",
      "2 2 2\n",
      "2 2 3\n",
      "2 3 1\n",
      "2 3 2\n",
      "2 3 3\n",
      "3 1 1\n",
      "3 1 2\n",
      "3 1 3\n",
      "3 2 1\n",
      "3 2 2\n",
      "3 2 3\n",
      "3 3 1\n",
      "3 3 2\n",
      "3 3 3\n"
     ]
    }
   ],
   "source": [
    "#16. WAP to generate all combination of 1, 2, or 3 using loop.\n",
    "def gc():\n",
    "    for i in range(1, 4):\n",
    "        for j in range(1, 4):\n",
    "            for k in range(1, 4):\n",
    "                print(i, j, k)\n",
    "gc()"
   ]
  },
  {
   "cell_type": "code",
   "execution_count": 18,
   "id": "e4d2e8e9-d159-4e37-9e9c-dcb7b2dab894",
   "metadata": {},
   "outputs": [
    {
     "name": "stdout",
     "output_type": "stream",
     "text": [
      "1 \n",
      "2 3 4 \n",
      "5 6 7 8 9 \n"
     ]
    }
   ],
   "source": [
    "#17. WAP to generate the following pattern:\n",
    "# 1\n",
    "# 2 3 4\n",
    "# 5 6 7 8 9\n",
    "def gp():\n",
    "    n = 1\n",
    "    for i in range(1, 4):\n",
    "        for j in range(2 * i - 1):\n",
    "            print(n, end=' ')\n",
    "            n += 1\n",
    "        print()\n",
    "gp()"
   ]
  },
  {
   "cell_type": "code",
   "execution_count": 19,
   "id": "67866863-9b40-4aa9-b398-b07e65a999b5",
   "metadata": {},
   "outputs": [
    {
     "name": "stdout",
     "output_type": "stream",
     "text": [
      "      1 \n",
      "    2 1 2 \n",
      "  3 2 1 2 3 \n",
      "4 3 2 1 2 3 4 \n"
     ]
    }
   ],
   "source": [
    "#18. WAP to generate the following pattern:\n",
    "#      1\n",
    "#    2 1 2\n",
    "#  3 2 1 2 3\n",
    "#4 3 2 1 2 3 4\n",
    "def gp2():\n",
    "    rows = 4\n",
    "    for i in range(1, rows + 1):\n",
    "        print(' ' * (rows - i) * 2, end='')\n",
    "        for j in range(i, 0, -1):\n",
    "            print(j, end=' ')\n",
    "        for j in range(2, i + 1):\n",
    "            print(j, end=' ')\n",
    "        print()\n",
    "gp2()"
   ]
  },
  {
   "cell_type": "code",
   "execution_count": 20,
   "id": "21987989-c9dc-42dc-ad10-2240a9073451",
   "metadata": {},
   "outputs": [
    {
     "name": "stdout",
     "output_type": "stream",
     "text": [
      "1     1\n",
      " 2   2\n",
      "  3 3\n",
      "   4\n"
     ]
    }
   ],
   "source": [
    "#19. WAP to generate the following pattern:\n",
    "# 1     1\n",
    "#  2   2\n",
    "#   3 3\n",
    "#    4\n",
    "def gp():\n",
    "    rows = 4\n",
    "    for i in range(1, rows + 1):\n",
    "        print(' ' * (i - 1), end='')\n",
    "        print(i, end='')\n",
    "        if i < rows:\n",
    "            print(' ' * (2 * (rows - i) - 1), end='')\n",
    "            print(i)\n",
    "        else:\n",
    "            print()\n",
    "gp()"
   ]
  },
  {
   "cell_type": "code",
   "execution_count": 21,
   "id": "7ee440df-f5d7-4bd1-a424-622faba49847",
   "metadata": {},
   "outputs": [
    {
     "name": "stdin",
     "output_type": "stream",
     "text": [
      "Enter numbers separated by spaces:  4 5 7 9 15\n"
     ]
    },
    {
     "name": "stdout",
     "output_type": "stream",
     "text": [
      "Median: 7.0\n"
     ]
    }
   ],
   "source": [
    "#20. WAP to find median of a set of numbers.\n",
    "def fm():\n",
    "    inp = input(\"Enter numbers separated by spaces: \")\n",
    "    numbers = list(map(float, inp.split()))\n",
    "    numbers.sort()\n",
    "    n = len(numbers)\n",
    "    mid = n // 2\n",
    "    if n % 2 == 0:\n",
    "        median = (numbers[mid - 1] + numbers[mid]) / 2\n",
    "    else:\n",
    "        median = numbers[mid]\n",
    "    print(\"Median:\", median)\n",
    "fm()"
   ]
  },
  {
   "cell_type": "code",
   "execution_count": 22,
   "id": "621e1712-aee3-4e3b-9455-5249d434261b",
   "metadata": {},
   "outputs": [
    {
     "name": "stdin",
     "output_type": "stream",
     "text": [
      "Enter the value for m:  8\n",
      "Enter the value for n:  4\n"
     ]
    },
    {
     "name": "stdout",
     "output_type": "stream",
     "text": [
      "8 is a multiple of 4\n"
     ]
    }
   ],
   "source": [
    "#21. WAP to read two integer values m and n and to decide and print whether m is multiple of n.\n",
    "def cm():\n",
    "    m = int(input(\"Enter the value for m: \"))\n",
    "    n = int(input(\"Enter the value for n: \"))\n",
    "    if n != 0 and m % n == 0:\n",
    "        print(f\"{m} is a multiple of {n}\")\n",
    "    else:\n",
    "        print(f\"{m} is not a multiple of {n}\")\n",
    "cm()"
   ]
  },
  {
   "cell_type": "code",
   "execution_count": 24,
   "id": "43c68229-0437-4173-a2d7-d677afb1dfab",
   "metadata": {},
   "outputs": [
    {
     "name": "stdin",
     "output_type": "stream",
     "text": [
      "Enter integers separated by spaces:  1 5 7 8 9\n"
     ]
    },
    {
     "name": "stdout",
     "output_type": "stream",
     "text": [
      "Sum: 30\n",
      "Average: 6.0\n"
     ]
    }
   ],
   "source": [
    "#22. WAP to calculate Sum & Average of an integer array.\n",
    "def csaa():\n",
    "    input_array = input(\"Enter integers separated by spaces: \")\n",
    "    numbers = list(map(int, input_array.split()))\n",
    "    total_sum = 0\n",
    "    for number in numbers:\n",
    "        total_sum += number\n",
    "    average = total_sum / len(numbers) if numbers else 0\n",
    "    print(f\"Sum: {total_sum}\")\n",
    "    print(f\"Average: {average}\")\n",
    "csaa()"
   ]
  },
  {
   "cell_type": "code",
   "execution_count": 26,
   "id": "ff0294cd-d8d2-4b75-916b-b64e04423290",
   "metadata": {},
   "outputs": [
    {
     "name": "stdin",
     "output_type": "stream",
     "text": [
      "Enter the stack size:  5\n"
     ]
    },
    {
     "name": "stdout",
     "output_type": "stream",
     "text": [
      "\n",
      "Stack operations:\n",
      "1. Push\n",
      "2. Pop\n",
      "3. Peek\n",
      "4. Display\n",
      "5. Check if empty\n",
      "6. Check if full\n",
      "7. Exit\n"
     ]
    },
    {
     "name": "stdin",
     "output_type": "stream",
     "text": [
      "Enter your choice:  1\n",
      "Enter value to push:  26\n"
     ]
    },
    {
     "name": "stdout",
     "output_type": "stream",
     "text": [
      "\n",
      "Stack operations:\n",
      "1. Push\n",
      "2. Pop\n",
      "3. Peek\n",
      "4. Display\n",
      "5. Check if empty\n",
      "6. Check if full\n",
      "7. Exit\n"
     ]
    },
    {
     "name": "stdin",
     "output_type": "stream",
     "text": [
      "Enter your choice:  1\n",
      "Enter value to push:  28\n"
     ]
    },
    {
     "name": "stdout",
     "output_type": "stream",
     "text": [
      "\n",
      "Stack operations:\n",
      "1. Push\n",
      "2. Pop\n",
      "3. Peek\n",
      "4. Display\n",
      "5. Check if empty\n",
      "6. Check if full\n",
      "7. Exit\n"
     ]
    },
    {
     "name": "stdin",
     "output_type": "stream",
     "text": [
      "Enter your choice:  1\n",
      "Enter value to push:  35\n"
     ]
    },
    {
     "name": "stdout",
     "output_type": "stream",
     "text": [
      "\n",
      "Stack operations:\n",
      "1. Push\n",
      "2. Pop\n",
      "3. Peek\n",
      "4. Display\n",
      "5. Check if empty\n",
      "6. Check if full\n",
      "7. Exit\n"
     ]
    },
    {
     "name": "stdin",
     "output_type": "stream",
     "text": [
      "Enter your choice:  4\n"
     ]
    },
    {
     "name": "stdout",
     "output_type": "stream",
     "text": [
      "Stack contents: [26, 28, 35]\n",
      "\n",
      "Stack operations:\n",
      "1. Push\n",
      "2. Pop\n",
      "3. Peek\n",
      "4. Display\n",
      "5. Check if empty\n",
      "6. Check if full\n",
      "7. Exit\n"
     ]
    },
    {
     "name": "stdin",
     "output_type": "stream",
     "text": [
      "Enter your choice:  2\n"
     ]
    },
    {
     "name": "stdout",
     "output_type": "stream",
     "text": [
      "Popped value: 35\n",
      "\n",
      "Stack operations:\n",
      "1. Push\n",
      "2. Pop\n",
      "3. Peek\n",
      "4. Display\n",
      "5. Check if empty\n",
      "6. Check if full\n",
      "7. Exit\n"
     ]
    },
    {
     "name": "stdin",
     "output_type": "stream",
     "text": [
      "Enter your choice:  4\n"
     ]
    },
    {
     "name": "stdout",
     "output_type": "stream",
     "text": [
      "Stack contents: [26, 28]\n",
      "\n",
      "Stack operations:\n",
      "1. Push\n",
      "2. Pop\n",
      "3. Peek\n",
      "4. Display\n",
      "5. Check if empty\n",
      "6. Check if full\n",
      "7. Exit\n"
     ]
    },
    {
     "name": "stdin",
     "output_type": "stream",
     "text": [
      "Enter your choice:  7\n"
     ]
    }
   ],
   "source": [
    "#23. WAP to implement stack using array.\n",
    "def push(stack, size):\n",
    "    if len(stack) >= size:\n",
    "        print(\"Stack overflow\")\n",
    "    else:\n",
    "        value = int(input(\"Enter value to push: \"))\n",
    "        stack.append(value)\n",
    "def pop(stack):\n",
    "    if not stack:\n",
    "        print(\"Stack underflow\")\n",
    "    else:\n",
    "        return stack.pop()\n",
    "def peek(stack):\n",
    "    if not stack:\n",
    "        print(\"Stack is empty\")\n",
    "    else:\n",
    "        return stack[-1]\n",
    "def is_empty(stack):\n",
    "    return len(stack) == 0\n",
    "def is_full(stack, size):\n",
    "    return len(stack) >= size\n",
    "def display(stack):\n",
    "    if not stack:\n",
    "        print(\"Stack is empty\")\n",
    "    else:\n",
    "        print(\"Stack contents:\", stack)\n",
    "def pe(stack, size):\n",
    "    while True:\n",
    "        print(\"\\nStack operations:\")\n",
    "        print(\"1. Push\")\n",
    "        print(\"2. Pop\")\n",
    "        print(\"3. Peek\")\n",
    "        print(\"4. Display\")\n",
    "        print(\"5. Check if empty\")\n",
    "        print(\"6. Check if full\")\n",
    "        print(\"7. Exit\")\n",
    "        ch = int(input(\"Enter your choice: \"))\n",
    "        if ch == 1:\n",
    "            push(stack, size)\n",
    "        elif ch == 2:\n",
    "            popped_value = pop(stack)\n",
    "            if popped_value is not None:\n",
    "                print(f\"Popped value: {popped_value}\")\n",
    "        elif ch == 3:\n",
    "            top_value = peek(stack)\n",
    "            if top_value is not None:\n",
    "                print(f\"Top value: {top_value}\")\n",
    "        elif ch == 4:\n",
    "            display(stack)\n",
    "        elif ch == 5:\n",
    "            print(f\"Is stack empty? {is_empty(stack)}\")\n",
    "        elif ch == 6:\n",
    "            print(f\"Is stack full? {is_full(stack, size)}\")\n",
    "        elif ch == 7:\n",
    "            break\n",
    "        else:\n",
    "            print(\"Invalid choice\")\n",
    "size = int(input(\"Enter the stack size: \"))\n",
    "stack = []\n",
    "pe(stack, size)"
   ]
  },
  {
   "cell_type": "code",
   "execution_count": null,
   "id": "23e32df3-7f0a-4cdd-91f8-44c2178490b2",
   "metadata": {},
   "outputs": [],
   "source": [
    "#24. WAP to implement Queue using array.\n",
    "def enqueue(queue, size, value):\n",
    "    if len(queue) >= size:\n",
    "        print(\"Queue overflow\")\n",
    "    else:\n",
    "        queue.append(value)\n",
    "def dequeue(queue):\n",
    "    if not queue:\n",
    "        print(\"Queue underflow\")\n",
    "    else:\n",
    "        return queue.pop(0)\n",
    "def peek(queue):\n",
    "    if not queue:\n",
    "        print(\"Queue is empty\")\n",
    "    else:\n",
    "        return queue[0]\n",
    "def is_empty(queue):\n",
    "    return len(queue) == 0\n",
    "def is_full(queue, size):\n",
    "    return len(queue) >= size\n",
    "def display(queue):\n",
    "    if not queue:\n",
    "        print(\"Queue is empty\")\n",
    "    else:\n",
    "        print(\"Queue contents:\", queue)\n",
    "def pe(queue, size):\n",
    "    while True:\n",
    "        print(\"\\nQueue operations:\")\n",
    "        print(\"1. Enqueue\")\n",
    "        print(\"2. Dequeue\")\n",
    "        print(\"3. Peek\")\n",
    "        print(\"4. Display\")\n",
    "        print(\"5. Check if empty\")\n",
    "        print(\"6. Check if full\")\n",
    "        print(\"7. Exit\")\n",
    "        ch = int(input(\"Enter your choice: \"))\n",
    "        if ch == 1:\n",
    "            value = int(input(\"Enter value to enqueue: \"))\n",
    "            enqueue(queue, size, value)\n",
    "        elif ch == 2:\n",
    "            print(f\"Dequeued value: {dequeue(queue)}\")\n",
    "        elif ch == 3:\n",
    "            print(f\"Front value: {peek(queue)}\")\n",
    "        elif ch == 4:\n",
    "            display(queue)\n",
    "        elif ch == 5:\n",
    "            print(f\"Is queue empty? {is_empty(queue)}\")\n",
    "        elif ch == 6:\n",
    "            print(f\"Is queue full? {is_full(queue, size)}\")\n",
    "        elif ch == 7:\n",
    "            break\n",
    "        else:\n",
    "            print(\"Invalid choice\")\n",
    "size = int(input(\"Enter the queue size: \"))\n",
    "queue = []\n",
    "pe(queue, size)"
   ]
  },
  {
   "cell_type": "code",
   "execution_count": null,
   "id": "28e3d978-0747-4115-85fa-77efae18a0ec",
   "metadata": {},
   "outputs": [],
   "source": []
  },
  {
   "cell_type": "code",
   "execution_count": null,
   "id": "44db57e5-5266-4f06-a12d-db8fb8831db4",
   "metadata": {},
   "outputs": [],
   "source": [
    "#25. WAP to calculate Sum of two 2-dimensional arrays.\n",
    "def gm(rows, cols):\n",
    "    matrix = []\n",
    "    for i in range(rows):\n",
    "        row = list(map(int, input(f\"Enter row {i + 1} (space-separated): \").split()))\n",
    "        if len(row) != cols:\n",
    "            print(\"Incorrect number of columns. Try again.\")\n",
    "            return gm(rows, cols)\n",
    "        matrix.append(row)\n",
    "    return matrix\n",
    "def am(matrix1, matrix2):\n",
    "    rows = len(matrix1)\n",
    "    cols = len(matrix1[0])\n",
    "    result = [[0] * cols for _ in range(rows)]\n",
    "    for i in range(rows):\n",
    "        for j in range(cols):\n",
    "            result[i][j] = matrix1[i][j] + matrix2[i][j]\n",
    "    return result\n",
    "def dp(matrix):\n",
    "    for row in matrix:\n",
    "        print(\" \".join(map(str, row)))\n",
    "rows = int(input(\"Enter number of rows: \"))\n",
    "cols = int(input(\"Enter number of columns: \"))\n",
    "print(\"Enter elements for Matrix 1:\")\n",
    "matrix1 = gm(rows, cols)\n",
    "print(\"Enter elements for Matrix 2:\")\n",
    "matrix2 = gm(rows, cols)\n",
    "print(\"Matrix 1:\")\n",
    "dp(matrix1)\n",
    "print(\"Matrix 2:\")\n",
    "dp(matrix2)\n",
    "sum_matrix = am(matrix1, matrix2)\n",
    "print(\"Sum of Matrix 1 and Matrix 2:\")\n",
    "dp(sum_matrix)"
   ]
  }
 ],
 "metadata": {
  "kernelspec": {
   "display_name": "Python 3 (ipykernel)",
   "language": "python",
   "name": "python3"
  },
  "language_info": {
   "codemirror_mode": {
    "name": "ipython",
    "version": 3
   },
   "file_extension": ".py",
   "mimetype": "text/x-python",
   "name": "python",
   "nbconvert_exporter": "python",
   "pygments_lexer": "ipython3",
   "version": "3.11.7"
  }
 },
 "nbformat": 4,
 "nbformat_minor": 5
}
