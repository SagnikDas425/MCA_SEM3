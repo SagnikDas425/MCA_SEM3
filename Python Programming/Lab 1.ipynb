{
 "cells": [
  {
   "cell_type": "code",
   "execution_count": 1,
   "id": "69f9a324-ac2f-45c0-9bdf-5e0fc89e59cb",
   "metadata": {},
   "outputs": [
    {
     "name": "stdin",
     "output_type": "stream",
     "text": [
      "Enter temperature in Celsius:  38\n"
     ]
    },
    {
     "name": "stdout",
     "output_type": "stream",
     "text": [
      "38.0°C is equal to 100.4°F\n"
     ]
    }
   ],
   "source": [
    "#1. WAP to convert temperature from Celsius to Fahrenheit\n",
    "def celsius_to_fahrenheit(celsius):\n",
    "    fahrenheit = (celsius * 9/5) + 32\n",
    "    return fahrenheit\n",
    "celsius = float(input(\"Enter temperature in Celsius: \"))\n",
    "print(f\"{celsius}°C is equal to {celsius_to_fahrenheit(celsius)}°F\")"
   ]
  },
  {
   "cell_type": "code",
   "execution_count": 2,
   "id": "ec21713d-004d-408d-8767-b428fd6ed0ff",
   "metadata": {},
   "outputs": [
    {
     "name": "stdin",
     "output_type": "stream",
     "text": [
      "Enter the first number:  10\n",
      "Enter the second number:  20\n"
     ]
    },
    {
     "name": "stdout",
     "output_type": "stream",
     "text": [
      "After swapping: a = 20, b = 10\n"
     ]
    }
   ],
   "source": [
    "#2. WAP to swap two numbers\n",
    "def swap_numbers(a, b):\n",
    "    return b, a\n",
    "a = int(input(\"Enter the first number: \"))\n",
    "b = int(input(\"Enter the second number: \"))\n",
    "a, b = swap_numbers(a, b)\n",
    "print(f\"After swapping: a = {a}, b = {b}\")"
   ]
  },
  {
   "cell_type": "code",
   "execution_count": 3,
   "id": "2e4314e0-3757-4335-b6bd-f1b6a489139b",
   "metadata": {},
   "outputs": [
    {
     "name": "stdin",
     "output_type": "stream",
     "text": [
      "Enter a year:  2004\n"
     ]
    },
    {
     "name": "stdout",
     "output_type": "stream",
     "text": [
      "2004 is a leap year\n"
     ]
    }
   ],
   "source": [
    "#3. WAP to check whether a given year is leap year or not\n",
    "def is_leap_year(year):\n",
    "    if (year % 4 == 0 and year % 100 != 0) or (year % 400 == 0):\n",
    "        print(f\"{year} is a leap year\")\n",
    "    else:\n",
    "        print(f\"{year} is not a leap year\")\n",
    "year = int(input(\"Enter a year: \"))\n",
    "is_leap_year(year)"
   ]
  },
  {
   "cell_type": "code",
   "execution_count": 4,
   "id": "dc335787-ee21-46f3-8412-6035a166a2d2",
   "metadata": {},
   "outputs": [
    {
     "name": "stdin",
     "output_type": "stream",
     "text": [
      "Enter a number:  471\n"
     ]
    },
    {
     "name": "stdout",
     "output_type": "stream",
     "text": [
      "Reverse of 471 is 174\n"
     ]
    }
   ],
   "source": [
    "#4. WAP to display reverse of a number\n",
    "def reverse_number(number):\n",
    "    return int(str(number)[::-1])\n",
    "number = int(input(\"Enter a number: \"))\n",
    "print(f\"Reverse of {number} is {reverse_number(number)}\")"
   ]
  },
  {
   "cell_type": "code",
   "execution_count": 5,
   "id": "ded97638-ef91-4d4a-9902-a713d8896b94",
   "metadata": {},
   "outputs": [
    {
     "name": "stdin",
     "output_type": "stream",
     "text": [
      "Enter a number:  10\n"
     ]
    },
    {
     "name": "stdout",
     "output_type": "stream",
     "text": [
      "Factors of 10 are [1, 2, 5, 10]\n"
     ]
    }
   ],
   "source": [
    "#5. WAP to find factors of a given number\n",
    "def find_factors(number):\n",
    "    factors = [i for i in range(1, number + 1) if number % i == 0]\n",
    "    return factors\n",
    "number = int(input(\"Enter a number: \"))\n",
    "print(f\"Factors of {number} are {find_factors(number)}\")"
   ]
  },
  {
   "cell_type": "code",
   "execution_count": 6,
   "id": "844e67df-4a11-4744-ad2f-fde91ef7b2bd",
   "metadata": {},
   "outputs": [
    {
     "name": "stdin",
     "output_type": "stream",
     "text": [
      "Enter a number:  20\n"
     ]
    },
    {
     "name": "stdout",
     "output_type": "stream",
     "text": [
      "Prime numbers up to 20 are [2, 3, 5, 7, 11, 13, 17, 19]\n"
     ]
    }
   ],
   "source": [
    "#6. WAP to generate prime number series up to n\n",
    "def is_prime(num):\n",
    "    if num <= 1:\n",
    "        return False\n",
    "    for i in range(2, int(num**0.5) + 1):\n",
    "        if num % i == 0:\n",
    "            return False\n",
    "    return True\n",
    "def prime_series(n):\n",
    "    primes = [i for i in range(2, n + 1) if is_prime(i)]\n",
    "    return primes\n",
    "n = int(input(\"Enter a number: \"))\n",
    "print(f\"Prime numbers up to {n} are {prime_series(n)}\")"
   ]
  },
  {
   "cell_type": "code",
   "execution_count": 7,
   "id": "4a5269ac-1441-4b8b-b18c-0f8ddbe6e0fe",
   "metadata": {},
   "outputs": [
    {
     "name": "stdout",
     "output_type": "stream",
     "text": [
      "Numbers divisible by 7 but not a multiple of 5 between 1000 and 2000 are: [1001, 1008, 1022, 1029, 1036, 1043, 1057, 1064, 1071, 1078, 1092, 1099, 1106, 1113, 1127, 1134, 1141, 1148, 1162, 1169, 1176, 1183, 1197, 1204, 1211, 1218, 1232, 1239, 1246, 1253, 1267, 1274, 1281, 1288, 1302, 1309, 1316, 1323, 1337, 1344, 1351, 1358, 1372, 1379, 1386, 1393, 1407, 1414, 1421, 1428, 1442, 1449, 1456, 1463, 1477, 1484, 1491, 1498, 1512, 1519, 1526, 1533, 1547, 1554, 1561, 1568, 1582, 1589, 1596, 1603, 1617, 1624, 1631, 1638, 1652, 1659, 1666, 1673, 1687, 1694, 1701, 1708, 1722, 1729, 1736, 1743, 1757, 1764, 1771, 1778, 1792, 1799, 1806, 1813, 1827, 1834, 1841, 1848, 1862, 1869, 1876, 1883, 1897, 1904, 1911, 1918, 1932, 1939, 1946, 1953, 1967, 1974, 1981, 1988]\n"
     ]
    }
   ],
   "source": [
    "#7. Write a program which makes use of function to display all such numbers which are divisible by 7 but are not a multiple of 5, between 1000 and 2000\n",
    "def special_numbers():\n",
    "    numbers = [i for i in range(1000, 2001) if i % 7 == 0 and i % 5 != 0]\n",
    "    return numbers\n",
    "print(f\"Numbers divisible by 7 but not a multiple of 5 between 1000 and 2000 are: {special_numbers()}\")"
   ]
  },
  {
   "cell_type": "code",
   "execution_count": 8,
   "id": "83806d3b-3544-465e-96bb-07755b98292e",
   "metadata": {},
   "outputs": [
    {
     "name": "stdin",
     "output_type": "stream",
     "text": [
      "Enter a number:  161\n"
     ]
    },
    {
     "name": "stdout",
     "output_type": "stream",
     "text": [
      "161 is a palindrome: True\n"
     ]
    }
   ],
   "source": [
    "#8. WAP to check whether a number is a palindrome or not\n",
    "def is_palindrome(number):\n",
    "    return str(number) == str(number)[::-1]\n",
    "number = int(input(\"Enter a number: \"))\n",
    "print(f\"{number} is a palindrome: {is_palindrome(number)}\")"
   ]
  },
  {
   "cell_type": "code",
   "execution_count": 9,
   "id": "8c0e9d8f-b9dd-47f3-b411-e84972b4ce3d",
   "metadata": {},
   "outputs": [
    {
     "name": "stdin",
     "output_type": "stream",
     "text": [
      "Enter a number to check for perfect number:  28\n"
     ]
    },
    {
     "name": "stdout",
     "output_type": "stream",
     "text": [
      "28 is a perfect number: True\n"
     ]
    },
    {
     "name": "stdin",
     "output_type": "stream",
     "text": [
      "Enter a number to check for Armstrong number:  153\n"
     ]
    },
    {
     "name": "stdout",
     "output_type": "stream",
     "text": [
      "153 is an Armstrong number: True\n"
     ]
    }
   ],
   "source": [
    "#9. WAP to check whether a)is a perfect number b)is an Armstrong number\n",
    "def is_perfect_number(number):\n",
    "    factors = [i for i in range(1, number) if number % i == 0]\n",
    "    return sum(factors) == number\n",
    "def is_armstrong_number(number):\n",
    "    digits = list(map(int, str(number)))\n",
    "    power = len(digits)\n",
    "    return sum([digit**power for digit in digits]) == number\n",
    "number = int(input(\"Enter a number to check for perfect number: \"))\n",
    "print(f\"{number} is a perfect number: {is_perfect_number(number)}\")\n",
    "number = int(input(\"Enter a number to check for Armstrong number: \"))\n",
    "print(f\"{number} is an Armstrong number: {is_armstrong_number(number)}\")\n"
   ]
  },
  {
   "cell_type": "code",
   "execution_count": 10,
   "id": "1dad21d5-a97c-4bb1-91ee-7a0f8a9a6ae4",
   "metadata": {},
   "outputs": [
    {
     "name": "stdin",
     "output_type": "stream",
     "text": [
      "Enter the number of terms for Fibonacci series:  30\n"
     ]
    },
    {
     "name": "stdout",
     "output_type": "stream",
     "text": [
      "Fibonacci series up to 30 terms: [0, 1, 1, 2, 3, 5, 8, 13, 21, 34, 55, 89, 144, 233, 377, 610, 987, 1597, 2584, 4181, 6765, 10946, 17711, 28657, 46368, 75025, 121393, 196418, 317811, 514229]\n"
     ]
    }
   ],
   "source": [
    "#10. WAP to generate the Fibonacci series upto n\n",
    "def fibonacci_series(n):\n",
    "    fib_series = [0, 1]\n",
    "    while len(fib_series) < n:\n",
    "        fib_series.append(fib_series[-1] + fib_series[-2])\n",
    "    return fib_series[:n]\n",
    "n = int(input(\"Enter the number of terms for Fibonacci series: \"))\n",
    "print(f\"Fibonacci series up to {n} terms: {fibonacci_series(n)}\")"
   ]
  },
  {
   "cell_type": "code",
   "execution_count": 11,
   "id": "9d0ac5cc-533a-444d-9a06-e21f0a544e54",
   "metadata": {},
   "outputs": [],
   "source": [
    "#Miscellaneous"
   ]
  },
  {
   "cell_type": "code",
   "execution_count": 12,
   "id": "7e75f1f5-fe6b-490b-b599-504808ffc84e",
   "metadata": {},
   "outputs": [
    {
     "name": "stdin",
     "output_type": "stream",
     "text": [
      "Enter the first number:  15\n",
      "Enter the second number:  20\n",
      "Enter the third number:  5\n"
     ]
    },
    {
     "name": "stdout",
     "output_type": "stream",
     "text": [
      "The maximum of the three numbers is: 20\n"
     ]
    }
   ],
   "source": [
    "#11. WAP to find maximum of three numbers \n",
    "def find_maximum(a, b, c):\n",
    "    if a >= b and a >= c:\n",
    "        return a\n",
    "    elif b >= a and b >= c:\n",
    "        return b\n",
    "    else:\n",
    "        return c\n",
    "n = int(input(\"Enter the first number: \"))\n",
    "n2 = int(input(\"Enter the second number: \"))\n",
    "n3 = int(input(\"Enter the third number: \"))\n",
    "mn = find_maximum(n,n2,n3)\n",
    "print(f\"The maximum of the three numbers is: {mn}\")"
   ]
  },
  {
   "cell_type": "code",
   "execution_count": 13,
   "id": "8a798f53-f51a-4e40-aacc-fea0fea0fba7",
   "metadata": {},
   "outputs": [
    {
     "name": "stdin",
     "output_type": "stream",
     "text": [
      "Enter the length of the rectangle:  8\n",
      "Enter the width of the rectangle:  5\n"
     ]
    },
    {
     "name": "stdout",
     "output_type": "stream",
     "text": [
      "The area of the rectangle is: 40.0\n",
      "The perimeter of the rectangle is: 26.0\n"
     ]
    }
   ],
   "source": [
    "#12. WAP to find area and perimeter of rectangle\n",
    "def rectangle_area(l, w):\n",
    "    return l * w\n",
    "def rectangle_perimeter(l, w):\n",
    "    return 2 * (l + w)\n",
    "l = float(input(\"Enter the length of the rectangle: \"))\n",
    "w = float(input(\"Enter the width of the rectangle: \"))\n",
    "area = rectangle_area(l, w)\n",
    "perimeter = rectangle_perimeter(l, w)\n",
    "print(f\"The area of the rectangle is: {area}\")\n",
    "print(f\"The perimeter of the rectangle is: {perimeter}\")"
   ]
  },
  {
   "cell_type": "code",
   "execution_count": 14,
   "id": "88c24164-5857-4b77-a005-16813db9403a",
   "metadata": {},
   "outputs": [
    {
     "name": "stdin",
     "output_type": "stream",
     "text": [
      "Enter the percentage:  85\n"
     ]
    },
    {
     "name": "stdout",
     "output_type": "stream",
     "text": [
      "The grade for a percentage of 85.0% is: B\n"
     ]
    }
   ],
   "source": [
    "#13. WAP for following grading system. Note: Percentage>=90% : Grade A Percentage>=80% : Grade B Percentage>=70% : Grade C Percentage>=60% : Grade D Percentage>=40% : Grade E Percentage<40% : Grade F\n",
    "def dg(percentage):\n",
    "    if percentage >= 90:\n",
    "        return 'A'\n",
    "    elif percentage >= 80:\n",
    "        return 'B'\n",
    "    elif percentage >= 70:\n",
    "        return 'C'\n",
    "    elif percentage >= 60:\n",
    "        return 'D'\n",
    "    elif percentage >= 40:\n",
    "        return 'E'\n",
    "    else:\n",
    "        return 'F'\n",
    "percentage = float(input(\"Enter the percentage: \"))\n",
    "grade = dg(percentage)\n",
    "print(f\"The grade for a percentage of {percentage}% is: {grade}\")"
   ]
  },
  {
   "cell_type": "code",
   "execution_count": 15,
   "id": "aee1cfda-aada-4461-a30f-2b9bd89f5133",
   "metadata": {},
   "outputs": [
    {
     "name": "stdin",
     "output_type": "stream",
     "text": [
      "Enter a number: 57\n"
     ]
    },
    {
     "name": "stdout",
     "output_type": "stream",
     "text": [
      "Its a Buzz number\n"
     ]
    }
   ],
   "source": [
    "#14. WAP to check whether a number is Buzz or not\n",
    "def Buzz(n):\n",
    "    if n % 10 == 7 or n % 7 == 0:\n",
    "        return \"Its a Buzz number\"\n",
    "    else:\n",
    "        return \"Its not a Buzz number\"\n",
    "n = int(input(\"Enter a number:\"))\n",
    "Buzz2 = Buzz(n)\n",
    "print(Buzz2)            "
   ]
  },
  {
   "cell_type": "code",
   "execution_count": 16,
   "id": "68d80eb2-c991-4cf1-83e1-45331e577a79",
   "metadata": {},
   "outputs": [
    {
     "name": "stdout",
     "output_type": "stream",
     "text": [
      "Factorial of 12 is 479001600\n"
     ]
    }
   ],
   "source": [
    "#15. WAP to calculate factorial of 12\n",
    "def factorial():\n",
    "    n,f = 12, 1\n",
    "    for i in range(1,13):\n",
    "        f = f * i\n",
    "    print(\"Factorial of 12 is\", f)\n",
    "factorial()"
   ]
  },
  {
   "cell_type": "code",
   "execution_count": 17,
   "id": "71bb1396-4bb1-41b4-99f4-eb1b1ad65579",
   "metadata": {},
   "outputs": [
    {
     "name": "stdout",
     "output_type": "stream",
     "text": [
      "Eligible students: ['Sagnik']\n"
     ]
    }
   ],
   "source": [
    "#16. WAP to process applications for course admissions\n",
    "def ca(maths, physics, chemistry):\n",
    "    total = maths + physics + chemistry\n",
    "    if (maths >= 60 and physics >= 50 and chemistry >= 40 and total >= 200) or (maths + physics >= 150):\n",
    "        return True\n",
    "    else:\n",
    "        return False\n",
    "students = [\n",
    "    {\"name\": \"Sagnik\", \"maths\": 88, \"physics\": 91, \"chemistry\": 84},\n",
    "    {\"name\": \"Rahul\", \"maths\": 45, \"physics\": 90, \"chemistry\": 65}]\n",
    "es = [student[\"name\"] for student in students if ca(student[\"maths\"], student[\"physics\"], student[\"chemistry\"])]\n",
    "print(\"Eligible students:\", es)"
   ]
  },
  {
   "cell_type": "code",
   "execution_count": 18,
   "id": "df8e8d83-5517-4be8-82a7-f4977b10c8d5",
   "metadata": {},
   "outputs": [
    {
     "name": "stdin",
     "output_type": "stream",
     "text": [
      "Enter the range:  10\n"
     ]
    },
    {
     "name": "stdout",
     "output_type": "stream",
     "text": [
      "The sum of natural numbers up to 10 is 55\n"
     ]
    }
   ],
   "source": [
    "#17. WAP to calculate the sum of natural numbers up to a certain range\n",
    "def sofn():\n",
    "    n = int(input(\"Enter the range: \"))\n",
    "    total = sum(range(1, n + 1))\n",
    "    print(\"The sum of natural numbers up to\", n, \"is\", total)\n",
    "sofn()"
   ]
  },
  {
   "cell_type": "code",
   "execution_count": 19,
   "id": "c09289cb-ea34-4b3f-a4ed-cddedc0812f8",
   "metadata": {},
   "outputs": [
    {
     "name": "stdin",
     "output_type": "stream",
     "text": [
      "Enter the start of the interval:  50\n",
      "Enter the end of the interval:  150\n"
     ]
    },
    {
     "name": "stdout",
     "output_type": "stream",
     "text": [
      "Multiples of 10 between 50 and 150 are: [50, 60, 70, 80, 90, 100, 110, 120, 130, 140, 150]\n"
     ]
    }
   ],
   "source": [
    "#18. WAP to print all multiple of 10 between a given interval\n",
    "def mo10(start, end):\n",
    "    multiples = []\n",
    "    for i in range(start, end + 1):\n",
    "        if i % 10 == 0:\n",
    "            multiples.append(i)\n",
    "    return multiples\n",
    "start = int(input(\"Enter the start of the interval: \"))\n",
    "end = int(input(\"Enter the end of the interval: \"))\n",
    "multiples = mo10(start, end)\n",
    "print(f\"Multiples of 10 between {start} and {end} are: {multiples}\")"
   ]
  },
  {
   "cell_type": "code",
   "execution_count": 20,
   "id": "a4ea025c-cb04-4243-b7dd-7aeb77ffdfa5",
   "metadata": {},
   "outputs": [
    {
     "name": "stdin",
     "output_type": "stream",
     "text": [
      "Enter the first number:  7\n",
      "Enter the second number:  11\n"
     ]
    },
    {
     "name": "stdout",
     "output_type": "stream",
     "text": [
      "The LCM of 7 and 11 is 77\n"
     ]
    }
   ],
   "source": [
    "#19. WAP to calculate LCM of a two numbers\n",
    "def LCM(a, b):\n",
    "    g = max(a, b)\n",
    "    while g % a != 0 or g % b != 0:\n",
    "        g += 1\n",
    "    return g\n",
    "n1 = int(input(\"Enter the first number: \"))\n",
    "n2 = int(input(\"Enter the second number: \"))\n",
    "print(f\"The LCM of {n1} and {n2} is {LCM(n1, n2)}\")"
   ]
  },
  {
   "cell_type": "code",
   "execution_count": 21,
   "id": "60123b92-4300-4c51-8086-3f17c2271cb3",
   "metadata": {},
   "outputs": [
    {
     "name": "stdin",
     "output_type": "stream",
     "text": [
      "Enter the number of terms to compute for Euler's number:  10\n"
     ]
    },
    {
     "name": "stdout",
     "output_type": "stream",
     "text": [
      "The value of Euler's number e using 10 terms is 2.7182818011463845\n"
     ]
    }
   ],
   "source": [
    "#20. WAP to compute the value of Euler’s number that is used as the base of natural logarithms. Use the following formula\n",
    "# e= 1+ 1/1! +1 /2! + 1/3+................ 1/n!\n",
    "def eu(n):\n",
    "    e, fact = 1, 1\n",
    "    for i in range(1, n + 1):\n",
    "        fact *= i\n",
    "        e += 1 / fact\n",
    "    return e\n",
    "n = int(input(\"Enter the number of terms to compute for Euler's number: \"))\n",
    "print(f\"The value of Euler's number e using {n} terms is {eu(n)}\")"
   ]
  }
 ],
 "metadata": {
  "kernelspec": {
   "display_name": "Python 3 (ipykernel)",
   "language": "python",
   "name": "python3"
  },
  "language_info": {
   "codemirror_mode": {
    "name": "ipython",
    "version": 3
   },
   "file_extension": ".py",
   "mimetype": "text/x-python",
   "name": "python",
   "nbconvert_exporter": "python",
   "pygments_lexer": "ipython3",
   "version": "3.11.7"
  }
 },
 "nbformat": 4,
 "nbformat_minor": 5
}
